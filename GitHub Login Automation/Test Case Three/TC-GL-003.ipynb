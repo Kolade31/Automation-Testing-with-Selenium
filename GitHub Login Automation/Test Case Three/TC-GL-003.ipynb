{
 "cells": [
  {
   "cell_type": "code",
   "execution_count": 1,
   "id": "6d38085a",
   "metadata": {},
   "outputs": [],
   "source": [
    "from selenium import webdriver\n",
    "from selenium.webdriver.chrome.service import Service\n",
    "from selenium.webdriver.support.ui import WebDriverWait\n",
    "from selenium.webdriver.common.by import By\n",
    "from selenium.webdriver.support import expected_conditions as EC\n",
    "import time"
   ]
  },
  {
   "cell_type": "code",
   "execution_count": 2,
   "id": "05a0e48b",
   "metadata": {},
   "outputs": [],
   "source": [
    "# Initialize the WebDriver\n",
    "service = Service(r\"C:\\Users\\USER1\\Downloads\\chromedriver_win32\\chromedriver.exe\")\n",
    "driver = webdriver.Chrome(service=service)"
   ]
  },
  {
   "cell_type": "code",
   "execution_count": 3,
   "id": "22f1758a",
   "metadata": {},
   "outputs": [],
   "source": [
    "# GitHub credentials\n",
    "username = \"Kolade31\"\n",
    "password = \"kol@demich@el812\""
   ]
  },
  {
   "cell_type": "code",
   "execution_count": 4,
   "id": "d0a73488",
   "metadata": {},
   "outputs": [],
   "source": [
    "# Navigating to GitHub login page\n",
    "driver.get(\"https://github.com/login\")"
   ]
  },
  {
   "cell_type": "code",
   "execution_count": 5,
   "id": "0363d7ed",
   "metadata": {},
   "outputs": [],
   "source": [
    "# Entering username\n",
    "WebDriverWait(driver, 10).until(\n",
    "    EC.presence_of_element_located((By.ID, \"login_field\"))\n",
    ").send_keys(username)"
   ]
  },
  {
   "cell_type": "code",
   "execution_count": 6,
   "id": "fb99d13d",
   "metadata": {},
   "outputs": [],
   "source": [
    "# Entering password\n",
    "WebDriverWait(driver, 10).until(\n",
    "    EC.presence_of_element_located((By.ID, \"password\"))\n",
    ").send_keys(password)"
   ]
  },
  {
   "cell_type": "code",
   "execution_count": 7,
   "id": "77d2c603",
   "metadata": {},
   "outputs": [],
   "source": [
    "# Clicking login button\n",
    "WebDriverWait(driver, 10).until(\n",
    "    EC.element_to_be_clickable((By.NAME, \"commit\"))\n",
    ").click()"
   ]
  },
  {
   "cell_type": "code",
   "execution_count": null,
   "id": "80086eed",
   "metadata": {},
   "outputs": [
    {
     "name": "stdout",
     "output_type": "stream",
     "text": [
      "[+] Login successful\n"
     ]
    }
   ],
   "source": [
    "# Checking for error messages\n",
    "error_message = \"Incorrect username or password.\"\n",
    "errors = driver.find_elements(By.CSS_SELECTOR, \".flash-error\")\n",
    "if any(error_message in e.text for e in errors):\n",
    "    print(\"[!] Login failed\")\n",
    "else:\n",
    "    print(\"[+] Login successful\")"
   ]
  },
  {
   "cell_type": "code",
   "execution_count": 11,
   "id": "5e7a602a",
   "metadata": {},
   "outputs": [],
   "source": [
    "# Closing the browser\n",
    "driver.quit()"
   ]
  },
  {
   "cell_type": "code",
   "execution_count": 12,
   "id": "3f8c3fc6",
   "metadata": {},
   "outputs": [],
   "source": [
    "# Reopening the browser\n",
    "driver = webdriver.Chrome(service=service)"
   ]
  },
  {
   "cell_type": "code",
   "execution_count": 13,
   "id": "655db8d7",
   "metadata": {},
   "outputs": [],
   "source": [
    "# Navigating to GitHub homepage\n",
    "driver.get(\"https://github.com\")"
   ]
  },
  {
   "cell_type": "code",
   "execution_count": null,
   "id": "9e41a5e8",
   "metadata": {},
   "outputs": [
    {
     "name": "stdout",
     "output_type": "stream",
     "text": [
      "[!] Session is not persistent. User needs to log in again.\n",
      "[!] Error: Message: \n",
      "Stacktrace:\n",
      "Backtrace:\n",
      "\tOrdinal0 [0x008478B3+2193587]\n",
      "\tOrdinal0 [0x007E0681+1771137]\n",
      "\tOrdinal0 [0x006F41A8+803240]\n",
      "\tOrdinal0 [0x007224A0+992416]\n",
      "\tOrdinal0 [0x0072273B+993083]\n",
      "\tOrdinal0 [0x0074F7C2+1177538]\n",
      "\tOrdinal0 [0x0073D7F4+1103860]\n",
      "\tOrdinal0 [0x0074DAE2+1170146]\n",
      "\tOrdinal0 [0x0073D5C6+1103302]\n",
      "\tOrdinal0 [0x007177E0+948192]\n",
      "\tOrdinal0 [0x007186E6+952038]\n",
      "\tGetHandleVerifier [0x00AF0CB2+2738370]\n",
      "\tGetHandleVerifier [0x00AE21B8+2678216]\n",
      "\tGetHandleVerifier [0x008D17AA+512954]\n",
      "\tGetHandleVerifier [0x008D0856+509030]\n",
      "\tOrdinal0 [0x007E743B+1799227]\n",
      "\tOrdinal0 [0x007EBB68+1817448]\n",
      "\tOrdinal0 [0x007EBC55+1817685]\n",
      "\tOrdinal0 [0x007F5230+1856048]\n",
      "\tBaseThreadInitThunk [0x75D7FCC9+25]\n",
      "\tRtlGetAppContainerNamedObjectPath [0x778080CE+286]\n",
      "\tRtlGetAppContainerNamedObjectPath [0x7780809E+238]\n",
      "\n"
     ]
    }
   ],
   "source": [
    "# Verifying session persistence\n",
    "try:\n",
    "    WebDriverWait(driver, 10).until(\n",
    "        EC.visibility_of_element_located((By.CSS_SELECTOR, \".header-nav-current-user\"))\n",
    "    )\n",
    "    print(\"[+] Session is persistent. User is still logged in.\")\n",
    "except Exception as e:\n",
    "    print(\"[!] Session is not persistent. User needs to log in again.\")\n",
    "    print(f\"[!] Error: {e}\")"
   ]
  },
  {
   "cell_type": "code",
   "execution_count": 16,
   "id": "c2794628",
   "metadata": {},
   "outputs": [],
   "source": [
    "# Close the driver\n",
    "driver.quit()"
   ]
  },
  {
   "cell_type": "code",
   "execution_count": null,
   "id": "3010ca77",
   "metadata": {},
   "outputs": [],
   "source": []
  }
 ],
 "metadata": {
  "kernelspec": {
   "display_name": "Python 3",
   "language": "python",
   "name": "python3"
  },
  "language_info": {
   "codemirror_mode": {
    "name": "ipython",
    "version": 3
   },
   "file_extension": ".py",
   "mimetype": "text/x-python",
   "name": "python",
   "nbconvert_exporter": "python",
   "pygments_lexer": "ipython3",
   "version": "3.10.6"
  }
 },
 "nbformat": 4,
 "nbformat_minor": 5
}
