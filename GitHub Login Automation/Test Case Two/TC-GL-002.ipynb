{
 "cells": [
  {
   "cell_type": "code",
   "execution_count": 1,
   "id": "e25f36ef",
   "metadata": {},
   "outputs": [],
   "source": [
    "from selenium import webdriver\n",
    "from selenium.webdriver.chrome.service import Service\n",
    "from selenium.webdriver.support.ui import WebDriverWait\n",
    "from selenium.webdriver.common.by import By\n",
    "from selenium.webdriver.support import expected_conditions as EC"
   ]
  },
  {
   "cell_type": "code",
   "execution_count": 2,
   "id": "c67f7a6a",
   "metadata": {},
   "outputs": [],
   "source": [
    "# Initialize the WebDriver\n",
    "service = Service(r\"C:\\Users\\USER1\\Downloads\\chromedriver_win32\\chromedriver.exe\")\n",
    "driver = webdriver.Chrome(service=service)"
   ]
  },
  {
   "cell_type": "code",
   "execution_count": 8,
   "id": "b276ef4d",
   "metadata": {},
   "outputs": [],
   "source": [
    "# GitHub credentials\n",
    "username = \"Kolade31\"\n",
    "password = \"kol@demich@el812\""
   ]
  },
  {
   "cell_type": "code",
   "execution_count": 9,
   "id": "bee62ea8",
   "metadata": {},
   "outputs": [],
   "source": [
    "driver.get(\"https://github.com/login\")"
   ]
  },
  {
   "cell_type": "code",
   "execution_count": 10,
   "id": "90d02424",
   "metadata": {},
   "outputs": [],
   "source": [
    "# Wait for and enter username\n",
    "WebDriverWait(driver, 10).until(\n",
    "    EC.presence_of_element_located((By.ID, \"login_field\"))\n",
    ").send_keys(username)"
   ]
  },
  {
   "cell_type": "code",
   "execution_count": 11,
   "id": "4ef06acc",
   "metadata": {},
   "outputs": [],
   "source": [
    "# Wait for and enter password\n",
    "WebDriverWait(driver, 10).until(\n",
    "    EC.presence_of_element_located((By.ID, \"password\"))\n",
    ").send_keys(password)"
   ]
  },
  {
   "cell_type": "code",
   "execution_count": 12,
   "id": "1e6cb057",
   "metadata": {},
   "outputs": [],
   "source": [
    "# Wait for and click the login button\n",
    "WebDriverWait(driver, 10).until(\n",
    "    EC.element_to_be_clickable((By.NAME, \"commit\"))\n",
    ").click()"
   ]
  },
  {
   "cell_type": "code",
   "execution_count": 13,
   "id": "57c14fa0",
   "metadata": {},
   "outputs": [
    {
     "data": {
      "text/plain": [
       "True"
      ]
     },
     "execution_count": 13,
     "metadata": {},
     "output_type": "execute_result"
    }
   ],
   "source": [
    "# Wait for page load and check for errors\n",
    "WebDriverWait(driver, 10).until(\n",
    "    lambda x: x.execute_script(\"return document.readyState === 'complete'\")\n",
    ")"
   ]
  },
  {
   "cell_type": "code",
   "execution_count": 14,
   "id": "afbab530",
   "metadata": {},
   "outputs": [
    {
     "name": "stdout",
     "output_type": "stream",
     "text": [
      "[+] Login successful\n"
     ]
    }
   ],
   "source": [
    "# Check for error messages\n",
    "error_message = \"Incorrect username or password.\"\n",
    "errors = driver.find_elements(By.CSS_SELECTOR, \".flash-error\")\n",
    "if any(error_message in e.text for e in errors):\n",
    "    print(\"[!] Login failed\")\n",
    "else:\n",
    "    print(\"[+] Login successful\")"
   ]
  },
  {
   "cell_type": "code",
   "execution_count": 15,
   "id": "caebf0ec",
   "metadata": {},
   "outputs": [
    {
     "name": "stdout",
     "output_type": "stream",
     "text": [
      "https://github.com/Kolade31/Automation-Testing-with-Selenium\n",
      "https://github.com/Kolade31/API-testing-on-Postman-101-\n",
      "https://github.com/Kolade31/Wind-Energy-Analytics-Forecast\n",
      "https://github.com/Kolade31/Exploring-Funding-Patterns-and-Trends-in-the-Startup-Ecosystem-Using-SQL\n",
      "https://github.com/Kolade31/Retail-Price-Optimization-Notebook\n",
      "https://github.com/Kolade31/AB-Testing-with-Cookie-Cats-Game\n",
      "https://github.com/OmdenaAI/dhaka-bangladesh-real-estate-recommendation\n"
     ]
    }
   ],
   "source": [
    "repos = driver.find_element(\"css selector\", \".js-repos-container\")\n",
    "WebDriverWait(driver=driver, timeout=10).until((lambda x: repos.text != \"Loading...\"))\n",
    "for repo in repos.find_elements(\"css selector\", \"li.public\"): # you can use \"li.private\" for private repos\n",
    "    print(repo.find_element(\"css selector\", \"a\").get_attribute(\"href\"))"
   ]
  },
  {
   "cell_type": "code",
   "execution_count": 16,
   "id": "19d64709",
   "metadata": {},
   "outputs": [],
   "source": [
    "# Close the driver\n",
    "driver.quit()"
   ]
  },
  {
   "cell_type": "code",
   "execution_count": null,
   "id": "ce26939b",
   "metadata": {},
   "outputs": [],
   "source": []
  }
 ],
 "metadata": {
  "kernelspec": {
   "display_name": "Python 3",
   "language": "python",
   "name": "python3"
  },
  "language_info": {
   "codemirror_mode": {
    "name": "ipython",
    "version": 3
   },
   "file_extension": ".py",
   "mimetype": "text/x-python",
   "name": "python",
   "nbconvert_exporter": "python",
   "pygments_lexer": "ipython3",
   "version": "3.10.6"
  }
 },
 "nbformat": 4,
 "nbformat_minor": 5
}
