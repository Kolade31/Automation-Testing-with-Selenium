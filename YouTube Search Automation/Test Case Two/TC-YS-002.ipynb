{
 "cells": [
  {
   "cell_type": "code",
   "execution_count": 18,
   "id": "f1058374",
   "metadata": {},
   "outputs": [],
   "source": [
    "from selenium import webdriver\n",
    "from selenium.webdriver.common.by import By\n",
    "from selenium.webdriver.chrome.service import Service\n",
    "from selenium.webdriver.support.ui import WebDriverWait\n",
    "from selenium.webdriver.support import expected_conditions as EC\n",
    "from selenium.common.exceptions import TimeoutException, NoSuchElementException, WebDriverException"
   ]
  },
  {
   "cell_type": "code",
   "execution_count": 19,
   "id": "25bd37b1",
   "metadata": {},
   "outputs": [],
   "source": [
    "# Initialize the WebDriver\n",
    "service = Service(r\"chromedriver.exe\")\n",
    "driver = webdriver.Chrome(service=service)"
   ]
  },
  {
   "cell_type": "code",
   "execution_count": 20,
   "id": "37ba6f72",
   "metadata": {},
   "outputs": [],
   "source": [
    "# Navigate to YouTube\n",
    "driver.get(\"https://www.youtube.com\")"
   ]
  },
  {
   "cell_type": "code",
   "execution_count": 21,
   "id": "52977484",
   "metadata": {},
   "outputs": [
    {
     "name": "stdout",
     "output_type": "stream",
     "text": [
      "[!] A timeout occurred while waiting for an element.\n"
     ]
    }
   ],
   "source": [
    "try:\n",
    "    \n",
    "    search_bar = WebDriverWait(driver, 10).until(\n",
    "        EC.presence_of_element_located((By.NAME, \"search_query\"))\n",
    "    )\n",
    "    \n",
    "    search_bar.submit()\n",
    "\n",
    "    WebDriverWait(driver, 30).until(\n",
    "        EC.visibility_of_element_located((By.CSS_SELECTOR, \"h1.title\"))\n",
    "    )\n",
    "\n",
    "    no_results_message = WebDriverWait(driver, 30).until(\n",
    "        EC.visibility_of_element_located((By.XPATH, \"//yt-formatted-string[contains(text(), 'No results found')]\"))\n",
    "    )\n",
    "\n",
    "    if no_results_message:\n",
    "        print(\"[+] No results message displayed as expected.\")\n",
    "    else:\n",
    "        print(\"[!] No results message not displayed.\")\n",
    "\n",
    "except TimeoutException:\n",
    "    print(\"[!] A timeout occurred while waiting for an element.\")\n",
    "except NoSuchElementException:\n",
    "    print(\"[!] An element was not found on the page.\")\n",
    "except WebDriverException as e:\n",
    "    print(f\"[!] WebDriver error: {e}\")\n",
    "except Exception as e:\n",
    "    print(f\"[!] An unexpected error occurred: {e}\")\n",
    "finally:\n",
    "    driver.quit()"
   ]
  },
  {
   "cell_type": "code",
   "execution_count": null,
   "id": "44269a51",
   "metadata": {},
   "outputs": [],
   "source": []
  }
 ],
 "metadata": {
  "kernelspec": {
   "display_name": "Python 3",
   "language": "python",
   "name": "python3"
  },
  "language_info": {
   "codemirror_mode": {
    "name": "ipython",
    "version": 3
   },
   "file_extension": ".py",
   "mimetype": "text/x-python",
   "name": "python",
   "nbconvert_exporter": "python",
   "pygments_lexer": "ipython3",
   "version": "3.10.6"
  }
 },
 "nbformat": 4,
 "nbformat_minor": 5
}
