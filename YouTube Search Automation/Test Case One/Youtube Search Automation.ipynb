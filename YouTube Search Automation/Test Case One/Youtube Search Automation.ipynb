{
 "cells": [
  {
   "cell_type": "code",
   "execution_count": 1,
   "id": "f1058374",
   "metadata": {},
   "outputs": [],
   "source": [
    "from selenium import webdriver"
   ]
  },
  {
   "cell_type": "code",
   "execution_count": 2,
   "id": "ee05eabc",
   "metadata": {},
   "outputs": [],
   "source": [
    "from selenium.webdriver.common.keys import Keys\n",
    "from selenium.webdriver.common.by import By"
   ]
  },
  {
   "cell_type": "code",
   "execution_count": 4,
   "id": "a4d7d173",
   "metadata": {},
   "outputs": [],
   "source": [
    "from selenium.webdriver.chrome.service import Service"
   ]
  },
  {
   "cell_type": "code",
   "execution_count": 5,
   "id": "25bd37b1",
   "metadata": {},
   "outputs": [],
   "source": [
    "service = Service(r\"C:\\Users\\USER1\\Downloads\\chromedriver_win32\\chromedriver.exe\")\n",
    "driver = webdriver.Chrome(service=service)"
   ]
  },
  {
   "cell_type": "code",
   "execution_count": 6,
   "id": "37ba6f72",
   "metadata": {},
   "outputs": [],
   "source": [
    "driver.get(\"https://www.youtube.com\")"
   ]
  },
  {
   "cell_type": "code",
   "execution_count": 10,
   "id": "bf009940",
   "metadata": {},
   "outputs": [],
   "source": [
    "search_bar = driver.find_element(By.NAME, \"search_query\")"
   ]
  },
  {
   "cell_type": "code",
   "execution_count": 11,
   "id": "8b3a216a",
   "metadata": {},
   "outputs": [],
   "source": [
    "search_bar.send_keys(\"Automation using Selenium on Python\")\n",
    "search_bar.submit()"
   ]
  },
  {
   "cell_type": "code",
   "execution_count": 12,
   "id": "200aac3f",
   "metadata": {},
   "outputs": [],
   "source": [
    "driver.close()"
   ]
  },
  {
   "cell_type": "code",
   "execution_count": null,
   "id": "52977484",
   "metadata": {},
   "outputs": [],
   "source": []
  }
 ],
 "metadata": {
  "kernelspec": {
   "display_name": "Python 3",
   "language": "python",
   "name": "python3"
  },
  "language_info": {
   "codemirror_mode": {
    "name": "ipython",
    "version": 3
   },
   "file_extension": ".py",
   "mimetype": "text/x-python",
   "name": "python",
   "nbconvert_exporter": "python",
   "pygments_lexer": "ipython3",
   "version": "3.10.6"
  }
 },
 "nbformat": 4,
 "nbformat_minor": 5
}
