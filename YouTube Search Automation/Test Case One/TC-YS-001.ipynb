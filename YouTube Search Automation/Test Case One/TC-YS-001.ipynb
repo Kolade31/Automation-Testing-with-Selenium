{
 "cells": [
  {
   "cell_type": "code",
   "execution_count": 31,
   "id": "f1058374",
   "metadata": {},
   "outputs": [],
   "source": [
    "from selenium import webdriver\n",
    "from selenium.webdriver.common.by import By\n",
    "from selenium.webdriver.chrome.service import Service\n",
    "from selenium.webdriver.support.ui import WebDriverWait\n",
    "from selenium.webdriver.support import expected_conditions as EC\n",
    "import time"
   ]
  },
  {
   "cell_type": "code",
   "execution_count": 32,
   "id": "25bd37b1",
   "metadata": {},
   "outputs": [],
   "source": [
    "# Initialize the WebDriver\n",
    "service = Service(r\"chromedriver.exe\")\n",
    "driver = webdriver.Chrome(service=service)"
   ]
  },
  {
   "cell_type": "code",
   "execution_count": 33,
   "id": "37ba6f72",
   "metadata": {},
   "outputs": [],
   "source": [
    "# Navigate to YouTube\n",
    "driver.get(\"https://www.youtube.com\")"
   ]
  },
  {
   "cell_type": "code",
   "execution_count": 34,
   "id": "bf009940",
   "metadata": {},
   "outputs": [],
   "source": [
    "search_bar = WebDriverWait(driver, 10).until(\n",
    "    EC.presence_of_element_located((By.NAME, \"search_query\"))\n",
    ")"
   ]
  },
  {
   "cell_type": "code",
   "execution_count": 35,
   "id": "e9cb6ecb",
   "metadata": {},
   "outputs": [],
   "source": [
    "driver.execute_script(\"arguments[0].focus();\", search_bar)\n",
    "search_bar.click()"
   ]
  },
  {
   "cell_type": "code",
   "execution_count": 36,
   "id": "8b3a216a",
   "metadata": {},
   "outputs": [],
   "source": [
    "search_bar.send_keys(\"Automation using Selenium on Python\")"
   ]
  },
  {
   "cell_type": "code",
   "execution_count": 37,
   "id": "95aff741",
   "metadata": {},
   "outputs": [],
   "source": [
    "search_bar.submit()"
   ]
  },
  {
   "cell_type": "code",
   "execution_count": 38,
   "id": "6202e32b",
   "metadata": {},
   "outputs": [],
   "source": [
    "time.sleep(10)"
   ]
  },
  {
   "cell_type": "code",
   "execution_count": 39,
   "id": "200aac3f",
   "metadata": {},
   "outputs": [],
   "source": [
    "driver.close()"
   ]
  },
  {
   "cell_type": "code",
   "execution_count": null,
   "id": "52977484",
   "metadata": {},
   "outputs": [],
   "source": []
  }
 ],
 "metadata": {
  "kernelspec": {
   "display_name": "Python 3",
   "language": "python",
   "name": "python3"
  },
  "language_info": {
   "codemirror_mode": {
    "name": "ipython",
    "version": 3
   },
   "file_extension": ".py",
   "mimetype": "text/x-python",
   "name": "python",
   "nbconvert_exporter": "python",
   "pygments_lexer": "ipython3",
   "version": "3.10.6"
  }
 },
 "nbformat": 4,
 "nbformat_minor": 5
}
