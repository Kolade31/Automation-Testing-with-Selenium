{
 "cells": [
  {
   "cell_type": "code",
   "execution_count": 1,
   "id": "93cab451",
   "metadata": {},
   "outputs": [],
   "source": [
    "from selenium import webdriver"
   ]
  },
  {
   "cell_type": "code",
   "execution_count": 2,
   "id": "5312c822",
   "metadata": {},
   "outputs": [],
   "source": [
    "import time"
   ]
  },
  {
   "cell_type": "code",
   "execution_count": 3,
   "id": "15680460",
   "metadata": {},
   "outputs": [],
   "source": [
    "from selenium.webdriver.chrome.service import Service"
   ]
  },
  {
   "cell_type": "code",
   "execution_count": 4,
   "id": "ab000a7f",
   "metadata": {},
   "outputs": [],
   "source": [
    "# Initializing the Chrome service\n",
    "service = Service(r\"C:\\Users\\USER1\\Downloads\\chromedriver_win32\\chromedriver.exe\")\n",
    "driver = webdriver.Chrome(service=service)"
   ]
  },
  {
   "cell_type": "code",
   "execution_count": 5,
   "id": "02065706",
   "metadata": {},
   "outputs": [],
   "source": [
    "# List of URLs to test\n",
    "urls = [\n",
    "    \"https://www.zikoko.com\",\n",
    "    \"https://www.thisisanfield.com\",\n",
    "    \"https://www.nairaland.com\"\n",
    "]"
   ]
  },
  {
   "cell_type": "code",
   "execution_count": 6,
   "id": "636bc068",
   "metadata": {},
   "outputs": [],
   "source": [
    "# Dictionary to store load times\n",
    "load_times = {}"
   ]
  },
  {
   "cell_type": "code",
   "execution_count": 7,
   "id": "55b9d827",
   "metadata": {},
   "outputs": [
    {
     "name": "stdout",
     "output_type": "stream",
     "text": [
      "Page Load Time for https://www.zikoko.com: 13.33 seconds\n",
      "Page Load Time for https://www.thisisanfield.com: 7.69 seconds\n",
      "Page Load Time for https://www.nairaland.com: 6.07 seconds\n"
     ]
    }
   ],
   "source": [
    "# Iterating through each URL\n",
    "for url in urls:\n",
    "    start_time = time.time()\n",
    "    \n",
    "    # Opening the URL\n",
    "    driver.get(url)\n",
    "    \n",
    "    # Calculating load time\n",
    "    load_time = time.time() - start_time\n",
    "    load_times[url] = load_time\n",
    "    print(f\"Page Load Time for {url}: {load_time:.2f} seconds\")"
   ]
  },
  {
   "cell_type": "code",
   "execution_count": 8,
   "id": "cd9a34e7",
   "metadata": {},
   "outputs": [
    {
     "name": "stdout",
     "output_type": "stream",
     "text": [
      "\n",
      "Summary of Load Times:\n",
      "https://www.zikoko.com: 13.33 seconds\n",
      "https://www.thisisanfield.com: 7.69 seconds\n",
      "https://www.nairaland.com: 6.07 seconds\n"
     ]
    }
   ],
   "source": [
    "print(\"\\nSummary of Load Times:\")\n",
    "for url, load_time in load_times.items():\n",
    "    print(f\"{url}: {load_time:.2f} seconds\")"
   ]
  },
  {
   "cell_type": "code",
   "execution_count": 9,
   "id": "c3d6f63c",
   "metadata": {},
   "outputs": [],
   "source": [
    "driver.quit()"
   ]
  },
  {
   "cell_type": "code",
   "execution_count": null,
   "id": "91c51fb7",
   "metadata": {},
   "outputs": [],
   "source": []
  }
 ],
 "metadata": {
  "kernelspec": {
   "display_name": "Python 3",
   "language": "python",
   "name": "python3"
  },
  "language_info": {
   "codemirror_mode": {
    "name": "ipython",
    "version": 3
   },
   "file_extension": ".py",
   "mimetype": "text/x-python",
   "name": "python",
   "nbconvert_exporter": "python",
   "pygments_lexer": "ipython3",
   "version": "3.10.6"
  }
 },
 "nbformat": 4,
 "nbformat_minor": 5
}
