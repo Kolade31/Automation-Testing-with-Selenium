{
 "cells": [
  {
   "cell_type": "code",
   "execution_count": 1,
   "id": "93cab451",
   "metadata": {},
   "outputs": [],
   "source": [
    "from selenium import webdriver"
   ]
  },
  {
   "cell_type": "code",
   "execution_count": 2,
   "id": "5312c822",
   "metadata": {},
   "outputs": [],
   "source": [
    "import time"
   ]
  },
  {
   "cell_type": "code",
   "execution_count": 3,
   "id": "15680460",
   "metadata": {},
   "outputs": [],
   "source": [
    "from selenium.webdriver.chrome.service import Service"
   ]
  },
  {
   "cell_type": "code",
   "execution_count": 4,
   "id": "ad9a687f",
   "metadata": {},
   "outputs": [],
   "source": [
    "from concurrent.futures import ThreadPoolExecutor"
   ]
  },
  {
   "cell_type": "code",
   "execution_count": 5,
   "id": "ab000a7f",
   "metadata": {},
   "outputs": [],
   "source": [
    "# Initializing the Chrome service\n",
    "service = Service(r\"chromedriver.exe\")"
   ]
  },
  {
   "cell_type": "code",
   "execution_count": 6,
   "id": "5d111f4a",
   "metadata": {},
   "outputs": [],
   "source": [
    "# Function to load a URL and measure load time\n",
    "def load_url(url):\n",
    "    driver = webdriver.Chrome(service=service)\n",
    "    start_time = time.time()\n",
    "    \n",
    "    # Opening the URL\n",
    "    driver.get(url)\n",
    "    \n",
    "    # Calculating load time\n",
    "    load_time = time.time() - start_time\n",
    "    driver.quit()\n",
    "    return load_time"
   ]
  },
  {
   "cell_type": "code",
   "execution_count": 7,
   "id": "37347ac7",
   "metadata": {},
   "outputs": [],
   "source": [
    "# URL to test\n",
    "url = \"https://www.zikoko.com\""
   ]
  },
  {
   "cell_type": "code",
   "execution_count": 8,
   "id": "5d49f57a",
   "metadata": {},
   "outputs": [],
   "source": [
    "# Number of concurrent users\n",
    "num_users = 5"
   ]
  },
  {
   "cell_type": "code",
   "execution_count": 9,
   "id": "02065706",
   "metadata": {},
   "outputs": [],
   "source": [
    "# List to store load times\n",
    "load_times = []"
   ]
  },
  {
   "cell_type": "code",
   "execution_count": 10,
   "id": "1a44b548",
   "metadata": {},
   "outputs": [],
   "source": [
    "# Use ThreadPoolExecutor to simulate concurrent requests\n",
    "with ThreadPoolExecutor(max_workers=num_users) as executor:\n",
    "    futures = [executor.submit(load_url, url) for _ in range(num_users)]\n",
    "    for future in futures:\n",
    "        load_times.append(future.result())"
   ]
  },
  {
   "cell_type": "code",
   "execution_count": 11,
   "id": "ce6b7705",
   "metadata": {},
   "outputs": [
    {
     "name": "stdout",
     "output_type": "stream",
     "text": [
      "\n",
      "Summary of Load Times for Concurrent Requests:\n",
      "Request 1: 33.15 seconds\n",
      "Request 2: 30.36 seconds\n",
      "Request 3: 38.98 seconds\n",
      "Request 4: 33.49 seconds\n",
      "Request 5: 34.31 seconds\n"
     ]
    }
   ],
   "source": [
    "# Output the results\n",
    "print(\"\\nSummary of Load Times for Concurrent Requests:\")\n",
    "for index, load_time in enumerate(load_times):\n",
    "    print(f\"Request {index + 1}: {load_time:.2f} seconds\")"
   ]
  },
  {
   "cell_type": "code",
   "execution_count": 12,
   "id": "29f306d5",
   "metadata": {},
   "outputs": [
    {
     "name": "stdout",
     "output_type": "stream",
     "text": [
      "\n",
      "Average Load Time: 34.06 seconds\n"
     ]
    }
   ],
   "source": [
    "# Calculate and print average load time\n",
    "average_load_time = sum(load_times) / len(load_times)\n",
    "print(f\"\\nAverage Load Time: {average_load_time:.2f} seconds\")"
   ]
  },
  {
   "cell_type": "code",
   "execution_count": null,
   "id": "91c51fb7",
   "metadata": {},
   "outputs": [],
   "source": []
  }
 ],
 "metadata": {
  "kernelspec": {
   "display_name": "Python 3",
   "language": "python",
   "name": "python3"
  },
  "language_info": {
   "codemirror_mode": {
    "name": "ipython",
    "version": 3
   },
   "file_extension": ".py",
   "mimetype": "text/x-python",
   "name": "python",
   "nbconvert_exporter": "python",
   "pygments_lexer": "ipython3",
   "version": "3.10.6"
  }
 },
 "nbformat": 4,
 "nbformat_minor": 5
}
