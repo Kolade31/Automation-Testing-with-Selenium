{
 "cells": [
  {
   "cell_type": "code",
   "execution_count": 8,
   "id": "93cab451",
   "metadata": {},
   "outputs": [],
   "source": [
    "from selenium import webdriver"
   ]
  },
  {
   "cell_type": "code",
   "execution_count": 9,
   "id": "5312c822",
   "metadata": {},
   "outputs": [],
   "source": [
    "import time"
   ]
  },
  {
   "cell_type": "code",
   "execution_count": 10,
   "id": "15680460",
   "metadata": {},
   "outputs": [],
   "source": [
    "from selenium.webdriver.chrome.service import Service"
   ]
  },
  {
   "cell_type": "code",
   "execution_count": 11,
   "id": "ab000a7f",
   "metadata": {},
   "outputs": [],
   "source": [
    "# Initializing the Chrome service\n",
    "service = Service(r\"chromedriver.exe\")\n",
    "driver = webdriver.Chrome(service=service)"
   ]
  },
  {
   "cell_type": "code",
   "execution_count": 12,
   "id": "02065706",
   "metadata": {},
   "outputs": [],
   "source": [
    "# Defining the URL\n",
    "url = \"\""
   ]
  },
  {
   "cell_type": "code",
   "execution_count": 13,
   "id": "cd9a34e7",
   "metadata": {},
   "outputs": [
    {
     "name": "stdout",
     "output_type": "stream",
     "text": [
      "Error: URL cannot be empty.\n"
     ]
    }
   ],
   "source": [
    "# Checking if the URL is empty\n",
    "if not url:\n",
    "    print(\"Error: URL cannot be empty.\")\n",
    "else:\n",
    "    start_time = time.time()\n",
    "    driver.get(url)\n",
    "    load_time = time.time() - start_time\n",
    "    print(f\"Page Load Time: {load_time} seconds\")"
   ]
  },
  {
   "cell_type": "code",
   "execution_count": 14,
   "id": "c3d6f63c",
   "metadata": {},
   "outputs": [],
   "source": [
    "driver.quit()"
   ]
  },
  {
   "cell_type": "code",
   "execution_count": null,
   "id": "91c51fb7",
   "metadata": {},
   "outputs": [],
   "source": []
  }
 ],
 "metadata": {
  "kernelspec": {
   "display_name": "Python 3",
   "language": "python",
   "name": "python3"
  },
  "language_info": {
   "codemirror_mode": {
    "name": "ipython",
    "version": 3
   },
   "file_extension": ".py",
   "mimetype": "text/x-python",
   "name": "python",
   "nbconvert_exporter": "python",
   "pygments_lexer": "ipython3",
   "version": "3.10.6"
  }
 },
 "nbformat": 4,
 "nbformat_minor": 5
}
